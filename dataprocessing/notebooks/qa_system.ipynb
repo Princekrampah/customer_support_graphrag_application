{
 "cells": [
  {
   "cell_type": "markdown",
   "metadata": {},
   "source": [
    "## Mapping Values To Datatbase"
   ]
  },
  {
   "cell_type": "code",
   "execution_count": 125,
   "metadata": {},
   "outputs": [
    {
     "data": {
      "text/plain": [
       "True"
      ]
     },
     "execution_count": 125,
     "metadata": {},
     "output_type": "execute_result"
    }
   ],
   "source": [
    "from dotenv import load_dotenv\n",
    "import os\n",
    "\n",
    "load_dotenv()"
   ]
  },
  {
   "cell_type": "markdown",
   "metadata": {},
   "source": [
    "### Load Chat Model"
   ]
  },
  {
   "cell_type": "code",
   "execution_count": 126,
   "metadata": {},
   "outputs": [],
   "source": [
    "from langchain_anthropic import ChatAnthropic\n",
    "\n",
    "model = ChatAnthropic(model='claude-3-opus-20240229')"
   ]
  },
  {
   "cell_type": "code",
   "execution_count": 142,
   "metadata": {},
   "outputs": [],
   "source": [
    "from pydantic import BaseModel, Field, field_validator\n",
    "from typing import List, Union\n",
    "from langchain.prompts import ChatPromptTemplate\n",
    "\n",
    "class PaysokoEntities(BaseModel):\n",
    "    \"\"\"Identifying information about Paysoko entities.\"\"\"\n",
    "    office_locations: Union[List[str], None] = Field(\n",
    "        default_factory=list,\n",
    "        description=\"Python List object all office locations mentioned in the text (e.g. ['LOC001', 'Paysoko CBD'])\"\n",
    "    )\n",
    "    services: Union[List[str], None] = Field(\n",
    "        default_factory=list,\n",
    "        description=\"Python List object all payment services mentioned in the text (e.g. ['PS001', 'Money Transfer'])\"\n",
    "    )\n",
    "    appointments: Union[List[str], None] = Field(\n",
    "        default_factory=list,\n",
    "        description=\"Python List object of all appointments mentioned in the text (e.g. ['APT001'])\"\n",
    "    )\n",
    "    office_hours: Union[List[str], None] = Field(\n",
    "        default_factory=list,\n",
    "        description=\"Python List object of office hours mentioned (e.g. ['opening_time', 'closing_time', 'monday'])\"\n",
    "    )\n",
    "\n",
    "    @field_validator('office_locations', 'services', 'appointments', 'office_hours')\n",
    "    def validate_list_fields(cls, v, info):\n",
    "        if v is None:\n",
    "            return []\n",
    "        if isinstance(v, str):\n",
    "            # Handle string representation of a list\n",
    "            v = v.strip('[]').replace(\"'\", \"\").split(', ')\n",
    "            return [item.strip() for item in v if item.strip()]\n",
    "        if isinstance(v, list):\n",
    "            return v\n",
    "        return list(v)\n",
    "\n",
    "    class Config:\n",
    "        arbitrary_types_allowed = True\n",
    "\n",
    "prompt = ChatPromptTemplate.from_messages([\n",
    "    (\n",
    "        \"system\", \n",
    "        \"You are extracting office locations, services, appointments, and operating hours from Paysoko text queries. Do always return full Python objects that are synthatically correct.\"\n",
    "    ),\n",
    "    (\n",
    "        \"human\", \n",
    "        \"Use the given format to extract information from the following input: {question}\"\n",
    "    ),\n",
    "])\n",
    "\n",
    "entity_chain = prompt | model.with_structured_output(PaysokoEntities)"
   ]
  },
  {
   "cell_type": "code",
   "execution_count": 143,
   "metadata": {},
   "outputs": [
    {
     "data": {
      "text/plain": [
       "PaysokoEntities(office_locations=[], services=[], appointments=[], office_hours=['opening_time', 'closing_time'])"
      ]
     },
     "execution_count": 143,
     "metadata": {},
     "output_type": "execute_result"
    }
   ],
   "source": [
    "entities = entity_chain.invoke({\"question\": \"What are your working hours\"})\n",
    "entities"
   ]
  },
  {
   "cell_type": "code",
   "execution_count": 144,
   "metadata": {},
   "outputs": [],
   "source": [
    "from langchain_community.graphs import Neo4jGraph"
   ]
  },
  {
   "cell_type": "code",
   "execution_count": 145,
   "metadata": {},
   "outputs": [],
   "source": [
    "graph = Neo4jGraph()"
   ]
  },
  {
   "cell_type": "code",
   "execution_count": 179,
   "metadata": {},
   "outputs": [],
   "source": [
    "from typing import Optional"
   ]
  },
  {
   "cell_type": "code",
   "execution_count": 146,
   "metadata": {},
   "outputs": [],
   "source": [
    "def map_to_database(entities: PaysokoEntities) -> Optional[str]:\n",
    "   fulltext_query = \"\"\"\n",
    "   CALL db.index.fulltext.queryNodes($indexName, $value) \n",
    "   YIELD node, score\n",
    "   WITH node, score, labels(node)[0] AS type\n",
    "   RETURN \n",
    "       CASE type\n",
    "           WHEN 'OfficeLocation' THEN node.location_name\n",
    "           WHEN 'Services' THEN node.service_name\n",
    "           WHEN 'Appointment' THEN node.appointment_id\n",
    "       END AS result,\n",
    "       type,\n",
    "       score\n",
    "   ORDER BY score DESC\n",
    "   LIMIT 1\n",
    "   \"\"\"\n",
    "\n",
    "   # Separate query for office hours\n",
    "   hours_query = \"\"\"\n",
    "   MATCH (h:OfficeHour)\n",
    "   WHERE h.day_of_week = $time OR h.opening_time = $time OR h.closing_time = $time\n",
    "   RETURN \n",
    "       h.day_of_week + ' ' + h.opening_time + '-' + h.closing_time as result,\n",
    "       'OfficeHour' as type,\n",
    "       1.0 as score\n",
    "   LIMIT 1\n",
    "   \"\"\"\n",
    "\n",
    "   result = \"\"\n",
    "       \n",
    "   # Map entities using fulltext search\n",
    "   for entity_type, entity_list in [\n",
    "       (\"locationIndex\", entities.office_locations),\n",
    "       (\"serviceIndex\", entities.services), \n",
    "       (\"appointmentIndex\", entities.appointments)\n",
    "   ]:\n",
    "       for entity in entity_list:\n",
    "           try:\n",
    "               response = graph.query(fulltext_query, {\n",
    "                   \"indexName\": entity_type,\n",
    "                   \"value\": entity\n",
    "               })\n",
    "               if response and len(response) > 0:\n",
    "                   result += (f\"{entity} maps to {response[0]['result']} \"\n",
    "                            f\"({response[0]['type']}) with score \"\n",
    "                            f\"{response[0]['score']:.2f}\\n\")\n",
    "               else:\n",
    "                   result += f\"No match found for {entity}\\n\"\n",
    "           except Exception as e:\n",
    "               print(f\"Error mapping entity {entity}: {e}\")\n",
    "\n",
    "   # Handle office hours separately\n",
    "   for time in entities.office_hours:\n",
    "       try:\n",
    "           response = graph.query(hours_query, {\"time\": time})\n",
    "           if response and len(response) > 0:\n",
    "               result += (f\"{time} maps to {response[0]['result']} \"\n",
    "                        f\"({response[0]['type']}) with score \"\n",
    "                        f\"{response[0]['score']:.2f}\\n\")\n",
    "           else:\n",
    "               result += f\"No match found for {time}\\n\"\n",
    "       except Exception as e:\n",
    "           print(f\"Error mapping office hour {time}: {e}\")\n",
    "\n",
    "   return result if result else None"
   ]
  },
  {
   "cell_type": "code",
   "execution_count": 147,
   "metadata": {},
   "outputs": [
    {
     "name": "stdout",
     "output_type": "stream",
     "text": [
      "No match found for opening_time\n",
      "No match found for closing_time\n",
      "\n"
     ]
    }
   ],
   "source": [
    "result = map_to_database(entities)\n",
    "print(result)"
   ]
  },
  {
   "cell_type": "code",
   "execution_count": 148,
   "metadata": {},
   "outputs": [],
   "source": [
    "from langchain_core.output_parsers import StrOutputParser\n",
    "from langchain_core.runnables import RunnablePassthrough\n",
    "\n",
    "# Generate Cypher statement based on natural language input for Paysoko system\n",
    "cypher_template = \"\"\"Based on the Paysoko Neo4j graph schema below, write a Cypher query that would answer the user's question:\n",
    "\n",
    "{schema}\n",
    "\n",
    "The entities mentioned in the question map to these database values:\n",
    "{entities_list}\n",
    "\n",
    "User Question: {question}\n",
    "\n",
    "Write a Cypher query to answer this question.\n",
    "Note: Focus only on Appointments, Services, OfficeLocations and Office Hours relationships.\n",
    "\n",
    "Cypher query:\"\"\"\n",
    "\n",
    "# Create chat prompt template\n",
    "cypher_prompt = ChatPromptTemplate.from_messages([\n",
    "   (\n",
    "       \"system\", \n",
    "       \"Generate a Cypher query to get information from the Paysoko database. Return only the query without explanation.\"\n",
    "   ),\n",
    "   (\"human\", cypher_template),\n",
    "])\n",
    "\n",
    "# Chain the components together\n",
    "cypher_response = (\n",
    "   RunnablePassthrough.assign(entities=entity_chain) |\n",
    "   RunnablePassthrough.assign(\n",
    "       entities_list=lambda x: map_to_database(x[\"entities\"]),\n",
    "        # Creates an anonymous function that takes any parameter (the underscore indicates we won't use this parameter\n",
    "        # def get_schema(_):\n",
    "        #  return graph.get_schema\n",
    "       schema=lambda _: graph.get_schema,\n",
    "   ) |\n",
    "   cypher_prompt |\n",
    "   model.bind(stop=[\"\\nResult:\"]) |\n",
    "   StrOutputParser()\n",
    ")"
   ]
  },
  {
   "cell_type": "code",
   "execution_count": 149,
   "metadata": {},
   "outputs": [
    {
     "data": {
      "text/plain": [
       "'MATCH (o:OfficeLocation)-[:WORKING_HOURS]->(h:OfficeHour)\\nRETURN o.location_name AS office, \\n       h.day_of_week AS day,\\n       h.opening_time AS opens, \\n       h.closing_time AS closes'"
      ]
     },
     "execution_count": 149,
     "metadata": {},
     "output_type": "execute_result"
    }
   ],
   "source": [
    "cypher = cypher_response.invoke({\"question\": \"What are your working hours\"})\n",
    "cypher"
   ]
  },
  {
   "cell_type": "markdown",
   "metadata": {},
   "source": [
    "### Natural Language Response"
   ]
  },
  {
   "cell_type": "code",
   "execution_count": 150,
   "metadata": {},
   "outputs": [],
   "source": [
    "from langchain.chains.graph_qa.cypher_utils import CypherQueryCorrector, Schema"
   ]
  },
  {
   "cell_type": "code",
   "execution_count": 166,
   "metadata": {},
   "outputs": [],
   "source": [
    "from langchain.chains.graph_qa.cypher_utils import CypherQueryCorrector, Schema\n",
    "\n",
    "corrector_schema = [\n",
    "    Schema(el[\"start\"], el[\"type\"], el[\"end\"])\n",
    "    for el in graph.structured_schema.get(\"relationships\")\n",
    "]\n",
    "cypher_validation = CypherQueryCorrector(corrector_schema)\n",
    "\n",
    "# Template for generating natural language responses\n",
    "response_template = \"\"\"\n",
    "Based on the question, Cypher query, and database response, provide a natural language answer in markdown format:\n",
    "\n",
    "Question: {question}\n",
    "Cypher query: {query} \n",
    "Database Response: {response}\n",
    "\n",
    "Response should focus on:\n",
    "- Office locations and working hours\n",
    "- Available services and costs\n",
    "- Appointment details and scheduling\n",
    "\"\"\"\n",
    "\n",
    "response_prompt = ChatPromptTemplate.from_messages([\n",
    "    (\n",
    "        \"system\",\n",
    "        \"You are a customer service assistant for Paysoko. Provide clear, direct answers based on the query results.\"\n",
    "    ),\n",
    "    (\"human\", response_template),\n",
    "])\n",
    "\n",
    "# Chain together the components\n",
    "chain = (\n",
    "    RunnablePassthrough.assign(query=cypher_response) |\n",
    "    RunnablePassthrough.assign(\n",
    "        response=lambda x: graph.query(cypher_validation(x[\"query\"]))\n",
    "    ) |\n",
    "    response_prompt | \n",
    "    model | \n",
    "    StrOutputParser()\n",
    ")"
   ]
  },
  {
   "cell_type": "code",
   "execution_count": 167,
   "metadata": {},
   "outputs": [],
   "source": [
    "response = chain.invoke({\"question\": \"What are your working hours\"})"
   ]
  },
  {
   "cell_type": "code",
   "execution_count": 169,
   "metadata": {},
   "outputs": [
    {
     "name": "stdout",
     "output_type": "stream",
     "text": [
      "Here are the working hours for our different Paysoko office locations:\n",
      "\n",
      "## Paysoko CBD\n",
      "- Monday - Friday: 08:00 - 17:00\n",
      "- Saturday: 09:00 - 15:00 \n",
      "- Sunday: Closed\n",
      "\n",
      "## Paysoko Westlands  \n",
      "- Monday - Friday: 08:30 - 18:00\n",
      "- Saturday: 09:00 - 16:00\n",
      "- Sunday: Closed\n",
      "\n",
      "## Paysoko Eastleigh\n",
      "- Monday - Friday: 08:00 - 17:30  \n",
      "- Saturday: 09:00 - 15:00\n",
      "- Sunday: Closed\n",
      "\n",
      "## Paysoko Karen\n",
      "- Monday - Friday: 09:00 - 17:00\n",
      "- Saturday: 10:00 - 15:00\n",
      "- Sunday: Closed \n",
      "\n",
      "## Paysoko Kasarani\n",
      "- Monday - Friday: 08:30 - 17:30\n",
      "- Saturday: 09:00 - 15:00 \n",
      "- Sunday: Closed\n",
      "\n",
      "Our offices are open on weekdays and Saturdays with slightly reduced hours. All locations are closed on Sundays.\n",
      "\n",
      "Please let me know if you need any other information about our services, costs or scheduling an appointment at one of our branches. I'd be happy to assist further.\n"
     ]
    }
   ],
   "source": [
    "print(response)"
   ]
  },
  {
   "cell_type": "code",
   "execution_count": 172,
   "metadata": {},
   "outputs": [],
   "source": [
    "from IPython.display import Markdown"
   ]
  },
  {
   "cell_type": "code",
   "execution_count": 171,
   "metadata": {},
   "outputs": [
    {
     "data": {
      "text/markdown": [
       "Here are the working hours for our different Paysoko office locations:\n",
       "\n",
       "## Paysoko CBD\n",
       "- Monday - Friday: 08:00 - 17:00\n",
       "- Saturday: 09:00 - 15:00 \n",
       "- Sunday: Closed\n",
       "\n",
       "## Paysoko Westlands  \n",
       "- Monday - Friday: 08:30 - 18:00\n",
       "- Saturday: 09:00 - 16:00\n",
       "- Sunday: Closed\n",
       "\n",
       "## Paysoko Eastleigh\n",
       "- Monday - Friday: 08:00 - 17:30  \n",
       "- Saturday: 09:00 - 15:00\n",
       "- Sunday: Closed\n",
       "\n",
       "## Paysoko Karen\n",
       "- Monday - Friday: 09:00 - 17:00\n",
       "- Saturday: 10:00 - 15:00\n",
       "- Sunday: Closed \n",
       "\n",
       "## Paysoko Kasarani\n",
       "- Monday - Friday: 08:30 - 17:30\n",
       "- Saturday: 09:00 - 15:00 \n",
       "- Sunday: Closed\n",
       "\n",
       "Our offices are open on weekdays and Saturdays with slightly reduced hours. All locations are closed on Sundays.\n",
       "\n",
       "Please let me know if you need any other information about our services, costs or scheduling an appointment at one of our branches. I'd be happy to assist further."
      ],
      "text/plain": [
       "<IPython.core.display.Markdown object>"
      ]
     },
     "execution_count": 171,
     "metadata": {},
     "output_type": "execute_result"
    }
   ],
   "source": [
    "Markdown(response)"
   ]
  },
  {
   "cell_type": "markdown",
   "metadata": {},
   "source": [
    "### Testing"
   ]
  },
  {
   "cell_type": "code",
   "execution_count": 173,
   "metadata": {},
   "outputs": [],
   "source": [
    "questions = [\n",
    "    \"What are your working hours\",\n",
    "    \"Can I a book an appointment for 2024-12-19,11:00\",\n",
    "    \"What kind of services do you offer\",\n",
    "    \"Tell me more about your Merchant Services\",\n",
    "]"
   ]
  },
  {
   "cell_type": "code",
   "execution_count": 174,
   "metadata": {},
   "outputs": [],
   "source": [
    "question_responses = []\n",
    "for question in questions:\n",
    "    response = chain.invoke({'question': question})\n",
    "    question_responses.append(response)\n",
    "    "
   ]
  },
  {
   "cell_type": "markdown",
   "metadata": {},
   "source": [
    "### Responses"
   ]
  },
  {
   "cell_type": "code",
   "execution_count": 175,
   "metadata": {},
   "outputs": [
    {
     "data": {
      "text/markdown": [
       "Here are the working hours for our Paysoko office locations:\n",
       "\n",
       "**Paysoko CBD:**\n",
       "- Monday - Friday: 8:00 AM - 5:00 PM\n",
       "- Saturday: 9:00 AM - 3:00 PM \n",
       "- Sunday: Closed\n",
       "\n",
       "**Paysoko Westlands:**\n",
       "- Monday - Friday: 8:30 AM - 6:00 PM\n",
       "- Saturday: 9:00 AM - 4:00 PM\n",
       "- Sunday: Closed\n",
       "\n",
       "**Paysoko Eastleigh:** \n",
       "- Monday - Friday: 8:00 AM - 5:30 PM\n",
       "- Saturday: 9:00 AM - 3:00 PM\n",
       "- Sunday: Closed\n",
       "\n",
       "**Paysoko Karen:**\n",
       "- Monday - Friday: 9:00 AM - 5:00 PM \n",
       "- Saturday: 10:00 AM - 3:00 PM\n",
       "- Sunday: Closed\n",
       "\n",
       "**Paysoko Kasarani:**\n",
       "- Monday - Friday: 8:30 AM - 5:30 PM\n",
       "- Saturday: 9:00 AM - 3:00 PM \n",
       "- Sunday: Closed\n",
       "\n",
       "All of our offices are open Monday through Saturday, but closed on Sundays. Hours vary slightly by location. Please reach out if you need any additional details on our services, costs or to schedule an appointment. We'll be happy to assist you further."
      ],
      "text/plain": [
       "<IPython.core.display.Markdown object>"
      ]
     },
     "execution_count": 175,
     "metadata": {},
     "output_type": "execute_result"
    }
   ],
   "source": [
    "Markdown(question_responses[0])"
   ]
  },
  {
   "cell_type": "code",
   "execution_count": 176,
   "metadata": {},
   "outputs": [
    {
     "data": {
      "text/markdown": [
       "Yes, there are office locations available for appointments on Thursday, December 19, 2024 at 11:00. Our offices are open during that time and have appointment slots available.\n",
       "\n",
       "To schedule an appointment for that date and time, please let me know:\n",
       "- Which office location you'd like to visit\n",
       "- What service(s) you need (e.g. notary, money order, check cashing, etc.)\n",
       "- The full name, phone number and email address to book the appointment under\n",
       "\n",
       "I'll be happy to check appointment availability, provide the service fees, and get you scheduled. Let me know if you need any other information!"
      ],
      "text/plain": [
       "<IPython.core.display.Markdown object>"
      ]
     },
     "execution_count": 176,
     "metadata": {},
     "output_type": "execute_result"
    }
   ],
   "source": [
    "Markdown(question_responses[1])"
   ]
  },
  {
   "cell_type": "code",
   "execution_count": 177,
   "metadata": {},
   "outputs": [
    {
     "data": {
      "text/markdown": [
       "Here is a summary of the services offered by Paysoko:\n",
       "\n",
       "## Financial Services\n",
       "- **Money Transfer:** Domestic transfers between bank accounts and mobile wallets. Cost: KES 150. Duration: 15 min.  \n",
       "- **Bill Payment:** Pay utility bills including electricity, water and internet. Cost: KES 100. Duration: 10 min.\n",
       "- **International Remittance:** Send money to various countries worldwide. Cost: KES 500. Duration: 20 min.\n",
       "- **Business Payments:** B2B payment solutions and bulk payment processing. Cost: KES 300. Duration: 25 min.\n",
       "- **Mobile Top-up:** Purchase airtime and data bundles for all networks. Cost: KES 50. Duration: 5 min.\n",
       "- **Government Payments:** Process government fees, licenses and permits. Cost: KES 200. Duration: 30 min. \n",
       "- **School Fees:** Make payments to educational institutions. Cost: KES 150. Duration: 15 min.\n",
       "\n",
       "## Merchant Services\n",
       "- POS terminals and payment gateway solutions for businesses \n",
       "- Cost: KES 1000\n",
       "- Duration: 45 min setup time\n",
       "\n",
       "Please note that costs and durations are estimates and may vary. Contact us for more details on pricing, to make an appointment, or check office locations and hours."
      ],
      "text/plain": [
       "<IPython.core.display.Markdown object>"
      ]
     },
     "execution_count": 177,
     "metadata": {},
     "output_type": "execute_result"
    }
   ],
   "source": [
    "Markdown(question_responses[2])"
   ]
  },
  {
   "cell_type": "code",
   "execution_count": 178,
   "metadata": {},
   "outputs": [
    {
     "data": {
      "text/markdown": [
       "Here are the key details about our Merchant Services:\n",
       "\n",
       "## Service Details\n",
       "- **Service**: Merchant Services\n",
       "- **Description**: POS and payment gateway solutions for businesses \n",
       "- **Cost**: KSH 1,000\n",
       "- **Duration**: 45 minutes\n",
       "\n",
       "## Availability\n",
       "To set up our Merchant Services, please visit one of our office locations during regular business hours:\n",
       "- Monday to Friday: 9:00 AM to 5:00 PM\n",
       "- Saturday: 9:00 AM to 12:00 PM\n",
       "- Sunday: Closed\n",
       "\n",
       "## Appointment Scheduling\n",
       "Appointments are required to get started with Merchant Services. To schedule an appointment:\n",
       "1. Call our Merchant Services team at 0700-123-456\n",
       "2. Provide your business details and preferred date and time\n",
       "3. Our team will confirm your appointment slot within 1 business day\n",
       "\n",
       "During your 45 minute appointment, we'll discuss your business needs, set up your POS system and payment gateway, and provide training on how to use the service.\n",
       "\n",
       "Please let me know if you have any other questions! We look forward to working with you to enable digital payments for your business."
      ],
      "text/plain": [
       "<IPython.core.display.Markdown object>"
      ]
     },
     "execution_count": 178,
     "metadata": {},
     "output_type": "execute_result"
    }
   ],
   "source": [
    "Markdown(question_responses[3])"
   ]
  },
  {
   "cell_type": "markdown",
   "metadata": {},
   "source": [
    "## Utility Class"
   ]
  },
  {
   "cell_type": "code",
   "execution_count": 184,
   "metadata": {},
   "outputs": [],
   "source": [
    "from dotenv import load_dotenv\n",
    "import os\n",
    "from langchain_anthropic import ChatAnthropic\n",
    "from pydantic import BaseModel, Field, field_validator\n",
    "from typing import List, Union, Optional\n",
    "from langchain.prompts import ChatPromptTemplate\n",
    "from langchain_community.graphs import Neo4jGraph\n",
    "from langchain_core.output_parsers import StrOutputParser\n",
    "from langchain_core.runnables import RunnablePassthrough\n",
    "from langchain.chains.graph_qa.cypher_utils import CypherQueryCorrector, Schema\n",
    "\n",
    "class PaysokoEntities(BaseModel):\n",
    "   \"\"\"Identifying information about Paysoko entities.\"\"\"\n",
    "   office_locations: Union[List[str], None] = Field(\n",
    "       default_factory=list,\n",
    "       description=\"Python List object all office locations mentioned in the text (e.g. ['LOC001', 'Paysoko CBD'])\"\n",
    "   )\n",
    "   services: Union[List[str], None] = Field(\n",
    "       default_factory=list,\n",
    "       description=\"Python List object all payment services mentioned in the text (e.g. ['PS001', 'Money Transfer'])\"\n",
    "   )\n",
    "   appointments: Union[List[str], None] = Field(\n",
    "       default_factory=list,\n",
    "       description=\"Python List object of all appointments mentioned in the text (e.g. ['APT001'])\"\n",
    "   )\n",
    "   office_hours: Union[List[str], None] = Field(\n",
    "       default_factory=list,\n",
    "       description=\"Python List object of office hours mentioned (e.g. ['opening_time', 'closing_time', 'monday'])\"\n",
    "   )\n",
    "\n",
    "   @field_validator('office_locations', 'services', 'appointments', 'office_hours')\n",
    "   def validate_list_fields(cls, v, info):\n",
    "       if v is None:\n",
    "           return []\n",
    "       if isinstance(v, str):\n",
    "           print(v)\n",
    "           v = v.strip('[]').replace(\"'\", \"\").split(', ')\n",
    "           return [item.strip() for item in v if item.strip()]\n",
    "       if isinstance(v, list):\n",
    "           return v\n",
    "       return list(v)\n",
    "\n",
    "   class Config:\n",
    "       arbitrary_types_allowed = True\n",
    "\n",
    "class PaysokoQA:\n",
    "    def __init__(self):\n",
    "       load_dotenv()\n",
    "       self.model = ChatAnthropic(model='claude-3-opus-20240229')\n",
    "       self.graph = Neo4jGraph()\n",
    "       self.setup_chains()\n",
    "\n",
    "    def setup_chains(self):\n",
    "       # Entity extraction chain\n",
    "       prompt = ChatPromptTemplate.from_messages([\n",
    "           (\n",
    "               \"system\", \n",
    "               \"You are extracting office locations, services, appointments, and operating hours from Paysoko text queries. Do always return full Python objects that are synthatically correct.\"\n",
    "           ),\n",
    "           (\n",
    "               \"human\", \n",
    "               \"Use the given format to extract information from the following input: {question}\"\n",
    "           ),\n",
    "       ])\n",
    "       self.entity_chain = prompt | self.model.with_structured_output(PaysokoEntities)\n",
    "\n",
    "       # Cypher generation chain\n",
    "       cypher_template = \"\"\"Based on the Paysoko Neo4j graph schema below, write a Cypher query that would answer the user's question:\n",
    "\n",
    "       {schema}\n",
    "\n",
    "       The entities mentioned in the question map to these database values:\n",
    "       {entities_list}\n",
    "\n",
    "       User Question: {question}\n",
    "\n",
    "       Write a Cypher query to answer this question.\n",
    "       Note: Focus only on Appointments, Services, OfficeLocations and Office Hours relationships.\n",
    "\n",
    "       Cypher query:\"\"\"\n",
    "\n",
    "       cypher_prompt = ChatPromptTemplate.from_messages([\n",
    "           (\n",
    "               \"system\", \n",
    "               \"Generate a Cypher query to get information from the Paysoko database. Return only the query without explanation.\"\n",
    "           ),\n",
    "           (\"human\", cypher_template),\n",
    "       ])\n",
    "\n",
    "       self.cypher_response = (\n",
    "           RunnablePassthrough.assign(entities=self.entity_chain) |\n",
    "           RunnablePassthrough.assign(\n",
    "               entities_list=lambda x: self.map_to_database(x[\"entities\"]),\n",
    "               schema=lambda _: self.graph.get_schema,\n",
    "           ) |\n",
    "           cypher_prompt |\n",
    "           self.model.bind(stop=[\"\\nResult:\"]) |\n",
    "           StrOutputParser()\n",
    "       )\n",
    "\n",
    "       # Schema validation\n",
    "       corrector_schema = [\n",
    "           Schema(el[\"start\"], el[\"type\"], el[\"end\"])\n",
    "           for el in self.graph.structured_schema.get(\"relationships\")\n",
    "       ]\n",
    "       self.cypher_validation = CypherQueryCorrector(corrector_schema)\n",
    "\n",
    "       # Response generation chain\n",
    "       response_template = \"\"\"\n",
    "       Based on the question, Cypher query, and database response, provide a natural language answer in markdown format:\n",
    "\n",
    "       Question: {question}\n",
    "       Cypher query: {query} \n",
    "       Database Response: {response}\n",
    "\n",
    "       Response should focus on:\n",
    "       - Office locations and working hours\n",
    "       - Available services and costs\n",
    "       - Appointment details and scheduling\n",
    "       \n",
    "       The tone of voice you should use in your final response:\n",
    "       {tone_of_voice}\n",
    "       \"\"\"\n",
    "\n",
    "       response_prompt = ChatPromptTemplate.from_messages([\n",
    "           (\n",
    "               \"system\",\n",
    "               \"You are a customer service assistant for Paysoko. Provide clear, direct answers based on the query results.\"\n",
    "           ),\n",
    "           (\"human\", response_template),\n",
    "       ])\n",
    "\n",
    "       self.chain = (\n",
    "           RunnablePassthrough.assign(query=self.cypher_response) |\n",
    "           RunnablePassthrough.assign(\n",
    "               response=lambda x: self.graph.query(self.cypher_validation(x[\"query\"]))\n",
    "           ) |\n",
    "           response_prompt | \n",
    "           self.model | \n",
    "           StrOutputParser()\n",
    "       )\n",
    "\n",
    "    def map_to_database(self, entities: PaysokoEntities) -> Optional[str]:\n",
    "       fulltext_query = \"\"\"\n",
    "       CALL db.index.fulltext.queryNodes($indexName, $value) \n",
    "       YIELD node, score\n",
    "       WITH node, score, labels(node)[0] AS type\n",
    "       RETURN \n",
    "           CASE type\n",
    "               WHEN 'OfficeLocation' THEN node.location_name\n",
    "               WHEN 'Services' THEN node.service_name\n",
    "               WHEN 'Appointment' THEN node.appointment_id\n",
    "           END AS result,\n",
    "           type,\n",
    "           score\n",
    "       ORDER BY score DESC\n",
    "       LIMIT 1\n",
    "       \"\"\"\n",
    "\n",
    "       hours_query = \"\"\"\n",
    "       MATCH (h:OfficeHour)\n",
    "       WHERE h.day_of_week = $time OR h.opening_time = $time OR h.closing_time = $time\n",
    "       RETURN \n",
    "           h.day_of_week + ' ' + h.opening_time + '-' + h.closing_time as result,\n",
    "           'OfficeHour' as type,\n",
    "           1.0 as score\n",
    "       LIMIT 1\n",
    "       \"\"\"\n",
    "\n",
    "       result = \"\"\n",
    "       \n",
    "       for entity_type, entity_list in [\n",
    "           (\"locationIndex\", entities.office_locations),\n",
    "           (\"serviceIndex\", entities.services), \n",
    "           (\"appointmentIndex\", entities.appointments)\n",
    "       ]:\n",
    "           for entity in entity_list:\n",
    "               try:\n",
    "                   response = self.graph.query(fulltext_query, {\n",
    "                       \"indexName\": entity_type,\n",
    "                       \"value\": entity\n",
    "                   })\n",
    "                   if response and len(response) > 0:\n",
    "                       result += (f\"{entity} maps to {response[0]['result']} \"\n",
    "                               f\"({response[0]['type']}) with score \"\n",
    "                               f\"{response[0]['score']:.2f}\\n\")\n",
    "                   else:\n",
    "                       result += f\"No match found for {entity}\\n\"\n",
    "               except Exception as e:\n",
    "                   print(f\"Error mapping entity {entity}: {e}\")\n",
    "\n",
    "       for time in entities.office_hours:\n",
    "           try:\n",
    "               response = self.graph.query(hours_query, {\"time\": time})\n",
    "               if response and len(response) > 0:\n",
    "                   result += (f\"{time} maps to {response[0]['result']} \"\n",
    "                           f\"({response[0]['type']}) with score \"\n",
    "                           f\"{response[0]['score']:.2f}\\n\")\n",
    "               else:\n",
    "                   result += f\"No match found for {time}\\n\"\n",
    "           except Exception as e:\n",
    "               print(f\"Error mapping office hour {time}: {e}\")\n",
    "\n",
    "       return result if result else None\n",
    "\n",
    "    def ask(self, question: str, tone_of_voice: str) -> str:\n",
    "       \"\"\"Main method to ask questions\"\"\"\n",
    "       return self.chain.invoke({\"question\": question, \"tone_of_voice\": tone_of_voice})\n",
    "   \n",
    "   \n",
    "   \n",
    "    async def a_ask(self, question: str, tone_of_voice: str) -> str:\n",
    "       \"\"\"Main method to ask questions asynchronously\"\"\"\n",
    "       response = await self.chain.ainvoke({\"question\": question, \"tone_of_voice\": tone_of_voice})\n",
    "       return response"
   ]
  },
  {
   "cell_type": "code",
   "execution_count": 189,
   "metadata": {},
   "outputs": [
    {
     "data": {
      "text/markdown": [
       "Here are the working hours for our Paysoko office locations:\n",
       "\n",
       "**Paysoko CBD**\n",
       "- Monday - Friday: 8:00 AM - 5:00 PM\n",
       "- Saturday: 9:00 AM - 3:00 PM \n",
       "- Sunday: Closed\n",
       "\n",
       "**Paysoko Westlands**\n",
       "- Monday - Friday: 8:30 AM - 6:00 PM\n",
       "- Saturday: 9:00 AM - 4:00 PM\n",
       "- Sunday: Closed\n",
       "\n",
       "**Paysoko Eastleigh**\n",
       "- Monday - Friday: 8:00 AM - 5:30 PM \n",
       "- Saturday: 9:00 AM - 3:00 PM\n",
       "- Sunday: Closed\n",
       "\n",
       "**Paysoko Karen**\n",
       "- Monday - Friday: 9:00 AM - 5:00 PM\n",
       "- Saturday: 10:00 AM - 3:00 PM \n",
       "- Sunday: Closed\n",
       "\n",
       "**Paysoko Kasarani**\n",
       "- Monday - Friday: 8:30 AM - 5:30 PM\n",
       "- Saturday: 9:00 AM - 3:00 PM\n",
       "- Sunday: Closed\n",
       "\n",
       "We're open Monday through Saturday at all locations to serve you. Feel free to visit us during those hours for any of your financial needs. Let us know if you have any other questions!"
      ],
      "text/plain": [
       "<IPython.core.display.Markdown object>"
      ]
     },
     "execution_count": 189,
     "metadata": {},
     "output_type": "execute_result"
    }
   ],
   "source": [
    "# Initialize the QA system\n",
    "qa = PaysokoQA()\n",
    "\n",
    "# Ask a question\n",
    "question=\"What are your working hours?\"\n",
    "answer = qa.ask(question=question, tone_of_voice=\"Be friendly and warm.\")\n",
    "Markdown(answer)"
   ]
  },
  {
   "cell_type": "markdown",
   "metadata": {},
   "source": [
    "### Log User Responses Into An CSV File"
   ]
  },
  {
   "cell_type": "code",
   "execution_count": 190,
   "metadata": {},
   "outputs": [],
   "source": [
    "import csv\n",
    "from datetime import datetime\n",
    "\n",
    "class QALogger:\n",
    "   def __init__(self, filename=\"qa_logs.csv\"):\n",
    "       self.filename = filename\n",
    "       self.setup_csv()\n",
    "       \n",
    "   def setup_csv(self):\n",
    "       \"\"\"Create CSV file with headers if it doesn't exist\"\"\"\n",
    "       if not os.path.exists(self.filename):\n",
    "           with open(self.filename, 'w', newline='') as file:\n",
    "               writer = csv.writer(file)\n",
    "               writer.writerow(['timestamp', 'question', 'response'])\n",
    "\n",
    "   def log_qa(self, question: str, response: str):\n",
    "       \"\"\"Log a question-answer pair to CSV\"\"\"\n",
    "       timestamp = datetime.now().strftime(\"%Y-%m-%d %H:%M:%S\")\n",
    "       with open(self.filename, 'a', newline='') as file:\n",
    "           writer = csv.writer(file)\n",
    "           writer.writerow([timestamp, question, response])"
   ]
  },
  {
   "cell_type": "code",
   "execution_count": 191,
   "metadata": {},
   "outputs": [],
   "source": [
    "QA_logger = QALogger() "
   ]
  },
  {
   "cell_type": "code",
   "execution_count": 192,
   "metadata": {},
   "outputs": [],
   "source": [
    "QA_logger.log_qa(question, response)  # Log Q&A)"
   ]
  },
  {
   "cell_type": "code",
   "execution_count": null,
   "metadata": {},
   "outputs": [],
   "source": []
  }
 ],
 "metadata": {
  "kernelspec": {
   "display_name": ".venv",
   "language": "python",
   "name": "python3"
  },
  "language_info": {
   "codemirror_mode": {
    "name": "ipython",
    "version": 3
   },
   "file_extension": ".py",
   "mimetype": "text/x-python",
   "name": "python",
   "nbconvert_exporter": "python",
   "pygments_lexer": "ipython3",
   "version": "3.10.12"
  }
 },
 "nbformat": 4,
 "nbformat_minor": 2
}
